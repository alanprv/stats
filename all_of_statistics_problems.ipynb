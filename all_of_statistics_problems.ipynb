{
 "cells": [
  {
   "cell_type": "markdown",
   "id": "b961f5db",
   "metadata": {},
   "source": [
    "# These are exercises from \"All of Statistics\" textbook"
   ]
  },
  {
   "cell_type": "markdown",
   "id": "63718333",
   "metadata": {},
   "source": [
    "## Chapter 1: Probability"
   ]
  },
  {
   "cell_type": "markdown",
   "id": "1e7d1841",
   "metadata": {},
   "source": [
    "### Exercise 21\n",
    "Suppose a coin has probability P of falling heads up. If we flip the coin many times, we would expect the proportion of heads to be near p. We will make this formal later. Take P = .3 and n = 1,000 and simulate n coin flips. Plot the proportion of heads as a function of n. Repeat for P = .03."
   ]
  }
 ],
 "metadata": {
  "kernelspec": {
   "display_name": "Python 3 (ipykernel)",
   "language": "python",
   "name": "python3"
  },
  "language_info": {
   "codemirror_mode": {
    "name": "ipython",
    "version": 3
   },
   "file_extension": ".py",
   "mimetype": "text/x-python",
   "name": "python",
   "nbconvert_exporter": "python",
   "pygments_lexer": "ipython3",
   "version": "3.9.12"
  }
 },
 "nbformat": 4,
 "nbformat_minor": 5
}
