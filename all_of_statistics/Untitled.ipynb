{
 "cells": [
  {
   "cell_type": "code",
   "execution_count": 61,
   "id": "539e8906",
   "metadata": {},
   "outputs": [],
   "source": [
    "from scipy.stats import bernoulli\n",
    "import numpy as np"
   ]
  },
  {
   "cell_type": "code",
   "execution_count": 31,
   "id": "ca77c3ed",
   "metadata": {},
   "outputs": [
    {
     "data": {
      "text/plain": [
       "0"
      ]
     },
     "execution_count": 31,
     "metadata": {},
     "output_type": "execute_result"
    }
   ],
   "source": [
    "bernoulli.rvs(.5)"
   ]
  },
  {
   "cell_type": "code",
   "execution_count": 83,
   "id": "8e01c5f3",
   "metadata": {},
   "outputs": [],
   "source": [
    "c = 1\n",
    "trials = 100"
   ]
  },
  {
   "cell_type": "code",
   "execution_count": 87,
   "id": "d76ac914",
   "metadata": {},
   "outputs": [],
   "source": [
    "def simulate(c, trials):\n",
    "    reward = c\n",
    "    for i in range(trials):\n",
    "        coin_flip = bernoulli.rvs(.5)\n",
    "        if coin_flip == 1:\n",
    "            reward = reward*2\n",
    "        elif coin_flip == 0:\n",
    "            reward = reward/2\n",
    "    \n",
    "    return reward\n",
    "\n",
    "        \n",
    "    "
   ]
  },
  {
   "cell_type": "code",
   "execution_count": 88,
   "id": "6affbce6",
   "metadata": {},
   "outputs": [
    {
     "name": "stdout",
     "output_type": "stream",
     "text": [
      "411577.7336780858\n"
     ]
    }
   ],
   "source": [
    "x = np.zeros(100)\n",
    "for i in range(100):\n",
    "    x[i] = (simulate(c,trials))\n",
    "\n",
    "print(x.mean())\n",
    "    "
   ]
  },
  {
   "cell_type": "code",
   "execution_count": null,
   "id": "571e087e",
   "metadata": {},
   "outputs": [],
   "source": []
  },
  {
   "cell_type": "code",
   "execution_count": null,
   "id": "ef61b5d5",
   "metadata": {},
   "outputs": [],
   "source": []
  }
 ],
 "metadata": {
  "kernelspec": {
   "display_name": "Python 3 (ipykernel)",
   "language": "python",
   "name": "python3"
  },
  "language_info": {
   "codemirror_mode": {
    "name": "ipython",
    "version": 3
   },
   "file_extension": ".py",
   "mimetype": "text/x-python",
   "name": "python",
   "nbconvert_exporter": "python",
   "pygments_lexer": "ipython3",
   "version": "3.9.12"
  }
 },
 "nbformat": 4,
 "nbformat_minor": 5
}
