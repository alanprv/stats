{
 "cells": [
  {
   "cell_type": "markdown",
   "id": "05b8fc82",
   "metadata": {},
   "source": [
    "# Chapter 3: Expectation"
   ]
  },
  {
   "cell_type": "markdown",
   "id": "1a39222a",
   "metadata": {},
   "source": [
    "### Exercise 9\n",
    "Let $X_1, X_2 ... X_n$ be N(0,1) random variables and let $\\overline{X_n}$ = $n^{-1} \\sum_{i=1}^n(X_i)$. Plot $\\overline{X_n}$ versus n for n=1, 1000. Repeat for $X_1, X_2 ... X_n$  ~ Cauchy. Explain why there's such a difference\n",
    "\n"
   ]
  },
  {
   "cell_type": "code",
   "execution_count": 1,
   "id": "c2b94a1b",
   "metadata": {},
   "outputs": [],
   "source": [
    "import numpy as np\n",
    "import matplotlib.pyplot as plt\n",
    "from scipy.stats import norm, expon, uniform"
   ]
  },
  {
   "cell_type": "markdown",
   "id": "2378509d",
   "metadata": {},
   "source": [
    "First we do normal distribution"
   ]
  },
  {
   "cell_type": "code",
   "execution_count": 28,
   "id": "4c11a91a",
   "metadata": {},
   "outputs": [
    {
     "name": "stderr",
     "output_type": "stream",
     "text": [
      "/var/folders/rf/p26g0dnx0cd2qzd8qkd750nc0000gn/T/ipykernel_28809/1263417458.py:7: RuntimeWarning: invalid value encountered in double_scalars\n",
      "  x_mean[i] = np.sum(x) / i\n"
     ]
    },
    {
     "data": {
      "text/plain": [
       "[<matplotlib.lines.Line2D at 0x7fa463a503a0>]"
      ]
     },
     "execution_count": 28,
     "metadata": {},
     "output_type": "execute_result"
    },
    {
     "data": {
      "image/png": "[encoded data removed]",
      "text/plain": [
       "<Figure size 432x288 with 1 Axes>"
      ]
     },
     "metadata": {
      "needs_background": "light"
     },
     "output_type": "display_data"
    }
   ],
   "source": [
    "max_n = 10000\n",
    "x_mean = np.zeros(max_n)\n",
    "n = np.linspace(1, max_n, max_n)\n",
    "\n",
    "for i in range(max_n):\n",
    "    x = norm.rvs(size = i)\n",
    "    x_mean[i] = np.sum(x) / i  \n",
    "\n",
    "plt.plot(n, x_mean)\n",
    "\n",
    "    "
   ]
  },
  {
   "cell_type": "markdown",
   "id": "c524aa13",
   "metadata": {},
   "source": [
    "Now we check with Cauchy"
   ]
  },
  {
   "cell_type": "code",
   "execution_count": null,
   "id": "dc829002",
   "metadata": {},
   "outputs": [],
   "source": [
    "max_n = 10000\n",
    "x_mean = np.zeros(max_n)\n",
    "n = np.linspace(1, max_n, max_n)\n",
    "\n",
    "for i in range(max_n):\n",
    "    x = norm.rvs(size = i)\n",
    "    x_mean[i] = np.sum(x) / i  \n",
    "\n",
    "plt.plot(n, x_mean)"
   ]
  }
 ],
 "metadata": {
  "kernelspec": {
   "display_name": "Python 3 (ipykernel)",
   "language": "python",
   "name": "python3"
  },
  "language_info": {
   "codemirror_mode": {
    "name": "ipython",
    "version": 3
   },
   "file_extension": ".py",
   "mimetype": "text/x-python",
   "name": "python",
   "nbconvert_exporter": "python",
   "pygments_lexer": "ipython3",
   "version": "3.9.12"
  }
 },
 "nbformat": 4,
 "nbformat_minor": 5
}
